{
 "cells": [
  {
   "cell_type": "markdown",
   "id": "edec27ba-e929-4697-a22d-9fe95698af50",
   "metadata": {},
   "source": [
    "# Pizza Place Sales Analysis"
   ]
  },
  {
   "cell_type": "code",
   "execution_count": null,
   "id": "c9464af7-623d-4b55-8c9d-08376cca690e",
   "metadata": {},
   "outputs": [],
   "source": [
    "### Importing the needed libraries\n",
    "import pandas as pd\n",
    "import numpy as np\n",
    "import matplotlib.pyplot as plt\n",
    "import seaborn as sns\n",
    "import zipfile\n",
    "import warnings\n",
    "warnings.filterwarnings('ignore')"
   ]
  },
  {
   "cell_type": "code",
   "execution_count": null,
   "id": "eed454d6-f926-4270-9299-ac2462fe4d81",
   "metadata": {},
   "outputs": [],
   "source": [
    "#Loading the data into a pandas DataFrame\n",
    "data_dictionary = pd.read_csv('Downloads/data_dictionary.csv', encoding='latin-1')\n",
    "order_details= pd.read_csv('Downloads/order_details.csv', encoding='latin-1')\n",
    "orders= pd.read_csv('Downloads/orders.csv', encoding='latin-1')\n",
    "pizza_types= pd.read_csv('Downloads/pizza_types.csv', encoding='latin-1')\n",
    "pizzas= pd.read_csv('Downloads/pizzas.csv', encoding='latin-1')"
   ]
  },
  {
   "cell_type": "code",
   "execution_count": null,
   "id": "b6cdacf4-a05c-48ac-b5da-f08640a3bea1",
   "metadata": {},
   "outputs": [],
   "source": [
    "### Previewing the Datasets\n",
    "orders.head()"
   ]
  },
  {
   "cell_type": "code",
   "execution_count": null,
   "id": "0e9f5e9a-9b25-47a1-b413-919a81626af5",
   "metadata": {},
   "outputs": [],
   "source": [
    "order_details.head()"
   ]
  },
  {
   "cell_type": "code",
   "execution_count": null,
   "id": "1a4dea1b-8e53-469c-a2f0-2114d98d8ae3",
   "metadata": {},
   "outputs": [],
   "source": [
    "pizzas.head()"
   ]
  },
  {
   "cell_type": "code",
   "execution_count": null,
   "id": "7e9d5b93-c7dd-470e-8a2f-4e5a41f8ed28",
   "metadata": {},
   "outputs": [],
   "source": [
    "pizza_types.head()"
   ]
  },
  {
   "cell_type": "code",
   "execution_count": null,
   "id": "d22445d2-21c4-4ceb-8770-8929d5cef3cf",
   "metadata": {},
   "outputs": [],
   "source": [
    "data_dictionary.head()"
   ]
  },
  {
   "cell_type": "code",
   "execution_count": null,
   "id": "9ad543a2-a127-4da9-9369-49e74a3391ba",
   "metadata": {},
   "outputs": [],
   "source": [
    "#Data cleaning\n",
    "# Check info\n",
    "orders.info()\n",
    "\n",
    "# Check missing values\n",
    "orders.isnull().sum()"
   ]
  },
  {
   "cell_type": "code",
   "execution_count": null,
   "id": "f8c02529-66a5-4226-b97a-f9bfa57f0178",
   "metadata": {},
   "outputs": [],
   "source": [
    "# Check info\n",
    "pizza_types.info()\n",
    "\n",
    "# Check missing values\n",
    "pizza_types.isnull().sum()"
   ]
  },
  {
   "cell_type": "code",
   "execution_count": null,
   "id": "5a7824d4-4440-411a-8670-af042aa770bd",
   "metadata": {},
   "outputs": [],
   "source": [
    "# Check info\n",
    "pizzas.info()\n",
    "\n",
    "# Check missing values\n",
    "pizzas.isnull().sum()"
   ]
  },
  {
   "cell_type": "code",
   "execution_count": null,
   "id": "6ee752d7-49c3-4b1e-b179-dfe5a9f3aa8e",
   "metadata": {},
   "outputs": [],
   "source": [
    "# Check info\n",
    "order_details.info()\n",
    "\n",
    "# Check missing values\n",
    "order_details.isnull().sum()"
   ]
  },
  {
   "cell_type": "code",
   "execution_count": null,
   "id": "98bc0311-9dbc-410d-8e57-0cca42d34af3",
   "metadata": {},
   "outputs": [],
   "source": [
    "### Merging the Datasets\n",
    "# Merging order_details with pizzas\n",
    "order_details = order_details.merge(pizzas, on='pizza_id', how='left')\n",
    "# Merging order_details with pizza_types\n",
    "order_details = order_details.merge(pizza_types, on='pizza_type_id', how='left')\n",
    "# Merging order_details with orders\n",
    "full_data = order_details.merge(orders, on='order_id', how='left')"
   ]
  },
  {
   "cell_type": "code",
   "execution_count": null,
   "id": "08cb49fb-178b-4641-8a17-fcc6f4f53539",
   "metadata": {},
   "outputs": [],
   "source": [
    "# Converting the date and time columns\n",
    "full_data['date'] = pd.to_datetime(full_data['date'])\n",
    "full_data['time'] = pd.to_datetime(full_data['time'], format='%H:%M:%S').dt.time\n",
    "\n",
    "full_data.head()"
   ]
  },
  {
   "cell_type": "markdown",
   "id": "1f0505fd-4e0a-4284-99f8-398c03e6a18b",
   "metadata": {},
   "source": [
    "## Exploratory Data Analysis (EDA)"
   ]
  },
  {
   "cell_type": "code",
   "execution_count": null,
   "id": "9cdf5420-944d-43e6-8cac-5ae5e2005746",
   "metadata": {},
   "outputs": [],
   "source": [
    "#1. Total Revenue/Sales\n",
    "total_revenue = (full_data['price'] * full_data['quantity']).sum()\n",
    "print(f\"The total Revenue was ${total_revenue:,.2f}\")\n",
    "\n",
    "#2. Total Quantity Sold\n",
    "total_quantity = full_data['quantity'].sum()\n",
    "print(f\"The total quantity sold was {total_quantity}\")\n",
    "\n",
    "#3. Total Orders\n",
    "total_orders = orders['order_id'].nunique()\n",
    "print(f\"The total Orders was {total_orders}\")\n",
    "\n",
    "#4. Number of Pizza Types Sold\n",
    "pizza_types_sold = full_data['pizza_type_id'].nunique()\n",
    "print(f\"The number of pizza types sold was {pizza_types_sold}\")\n",
    "\n",
    "#5. Average Price of Pizzas\n",
    "average_price = pizzas['price'].mean()\n",
    "print(f\"The average pizza price was ${average_price:.2f}\")\n",
    "\n",
    "#6. Peak Hours of Sales\n",
    "full_data['hour'] = pd.to_datetime(full_data['time'].astype(str)).dt.hour\n",
    "\n",
    "plt.figure(figsize=(10,6))\n",
    "sns.countplot(x='hour', data=full_data, palette='viridis')\n",
    "plt.title('Peak Hours of Sales')\n",
    "plt.xlabel('Hour of the Day')\n",
    "plt.ylabel('Number of Orders')\n",
    "plt.show()\n",
    "\n",
    "#7. Sales by Day of the Week\n",
    "full_data['day_of_week'] = full_data['date'].dt.day_name()\n",
    "\n",
    "sales_by_day = full_data.groupby('day_of_week').apply(lambda x: (x['price'] * x['quantity']).sum())\n",
    "sales_by_day = sales_by_day.reindex(['Monday', 'Tuesday', 'Wednesday', 'Thursday', 'Friday', 'Saturday', 'Sunday'])\n",
    "\n",
    "sales_by_day.plot(kind='bar', figsize=(10,6), color='skyblue')\n",
    "plt.title('Total Sales by Day of the Week')\n",
    "plt.xlabel('Day of the Week')\n",
    "plt.ylabel('Total Sales ($)')\n",
    "plt.show()\n",
    "\n",
    "#8. Top 5 Bestselling Pizzas\n",
    "bestselling_pizzas = full_data.groupby('pizza_type_id')['quantity'].sum().sort_values(ascending=False).head(5)\n",
    "\n",
    "bestselling_pizzas.plot(kind='bar', figsize=(10,6), color='salmon')\n",
    "plt.title('Top 5 Bestselling Pizzas')\n",
    "plt.xlabel('Pizza Type')\n",
    "plt.ylabel('Quantity Sold')\n",
    "plt.show()\n",
    "\n",
    "#9. Monthly Sales and Trend Analysis\n",
    "full_data['month'] = full_data['date'].dt.month_name()\n",
    "monthly_sales = full_data.groupby('month').apply(lambda x: (x['price'] * x['quantity']).sum())\n",
    "\n",
    "# Order months\n",
    "month_order = ['January', 'February', 'March', 'April', 'May', 'June',\n",
    "               'July', 'August', 'September', 'October', 'November', 'December']\n",
    "monthly_sales = monthly_sales.reindex(month_order)\n",
    "\n",
    "monthly_sales.plot(kind='line', marker='o', figsize=(12,6))\n",
    "plt.title('Monthly Sales Trend')\n",
    "plt.xlabel('Month')\n",
    "plt.ylabel('Sales ($)')\n",
    "plt.grid(True)\n",
    "plt.show()\n",
    "\n",
    "#10. Underperforming Pizzas\n",
    "pizza_sales = full_data.groupby('pizza_type_id')['quantity'].sum().sort_values()\n",
    "\n",
    "# Bottom 5 Pizzas\n",
    "bottom_pizzas = pizza_sales.head(5)\n",
    "\n",
    "bottom_pizzas.plot(kind='barh', figsize=(10,6), color='lightcoral')\n",
    "plt.title('Bottom 5 Underperforming Pizzas')\n",
    "plt.xlabel('Quantity Sold')\n",
    "plt.ylabel('Pizza Type')\n",
    "plt.show()\n",
    "\n",
    "# Additional Insights\n",
    "\n",
    "#11. Pizza size popularity \n",
    "size_sales = full_data.groupby('size')['quantity'].sum().sort_values()\n",
    "\n",
    "# Plot\n",
    "size_sales.plot(kind='barh', color='skyblue')\n",
    "plt.title('Sales by Pizza Size')\n",
    "plt.xlabel('Total Pizzas Sold')\n",
    "plt.ylabel('Pizza Size')\n",
    "plt.show()\n",
    "\n",
    "#12. Popular ingredients \n",
    "# Split ingredients into separate words\n",
    "ingredient_list = full_data['ingredients'].str.split(',').explode()\n",
    "\n",
    "top_ingredients = ingredient_list.value_counts().head(10)\n",
    "\n",
    "# Plot\n",
    "sns.barplot(y=top_ingredients.index, x=top_ingredients.values, palette='coolwarm')\n",
    "plt.title('Top 10 Most Common Ingredients')\n",
    "plt.xlabel('Count')\n",
    "plt.ylabel('Ingredient')\n",
    "plt.show()\n",
    "\n",
    "#13. Weekly Sales Trend (Seasonality)\n",
    "# Extract week day\n",
    "full_data['weekday'] = full_data['date'].dt.day_name()\n",
    "\n",
    "weekday_sales = full_data.groupby('weekday')['quantity'].sum().reindex([\n",
    "    'Monday', 'Tuesday', 'Wednesday', 'Thursday', 'Friday', 'Saturday', 'Sunday'\n",
    "])\n",
    "\n",
    "# Plot\n",
    "sns.lineplot(x=weekday_sales.index, y=weekday_sales.values, marker='o')\n",
    "plt.title('Sales Trend by Day of the Week')\n",
    "plt.ylabel('Total Pizzas Sold')\n",
    "plt.xlabel('Weekday')\n",
    "plt.xticks(rotation=45)\n",
    "plt.show()\n",
    "\n",
    "\n",
    "#14. Top 10 best selling pizzas\n",
    "top_pizzas = full_data.groupby('name')['quantity'].sum().sort_values(ascending=False).head(10)\n",
    "\n",
    "# Plot\n",
    "sns.barplot(x=top_pizzas.values, y=top_pizzas.index, palette=\"viridis\")\n",
    "plt.title('Top 10 Best Selling Pizzas')\n",
    "plt.xlabel('Total Quantity Sold')\n",
    "plt.ylabel('Pizza Name')\n",
    "plt.show()\n"
   ]
  },
  {
   "cell_type": "code",
   "execution_count": null,
   "id": "da6e70f6-3400-4a97-8f4a-a074b26372b2",
   "metadata": {},
   "outputs": [],
   "source": []
  }
 ],
 "metadata": {
  "kernelspec": {
   "display_name": "Python 3 (ipykernel)",
   "language": "python",
   "name": "python3"
  },
  "language_info": {
   "codemirror_mode": {
    "name": "ipython",
    "version": 3
   },
   "file_extension": ".py",
   "mimetype": "text/x-python",
   "name": "python",
   "nbconvert_exporter": "python",
   "pygments_lexer": "ipython3",
   "version": "3.12.7"
  }
 },
 "nbformat": 4,
 "nbformat_minor": 5
}
